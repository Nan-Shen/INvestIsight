{
 "cells": [
  {
   "cell_type": "code",
   "execution_count": 2,
   "id": "36470f8b-1fca-4206-ab32-36cda9f79acf",
   "metadata": {},
   "outputs": [],
   "source": [
    "import sys\n",
    "sys.path.append('../../')\n",
    "from tools.custom_tool import ScrapeTool"
   ]
  },
  {
   "cell_type": "code",
   "execution_count": 3,
   "id": "3991bdec-04c1-4653-a298-35bd7af964ee",
   "metadata": {},
   "outputs": [],
   "source": [
    "url = 'https://stackoverflow.com/questions/72741663/argument-parser-from-a-pydantic-model'"
   ]
  },
  {
   "cell_type": "code",
   "execution_count": 11,
   "id": "6ebd9577-02e1-44de-a998-fc6e5ebac9e8",
   "metadata": {},
   "outputs": [],
   "source": [
    "scr = ScrapeTool()"
   ]
  },
  {
   "cell_type": "code",
   "execution_count": 13,
   "id": "cad6f4a9-cc52-4e74-a2dc-a91ce207e7d2",
   "metadata": {},
   "outputs": [
    {
     "ename": "AttributeError",
     "evalue": "'ScrapeTool' object has no attribute 'run_'",
     "output_type": "error",
     "traceback": [
      "\u001b[31m---------------------------------------------------------------------------\u001b[39m",
      "\u001b[31mAttributeError\u001b[39m                            Traceback (most recent call last)",
      "\u001b[36mCell\u001b[39m\u001b[36m \u001b[39m\u001b[32mIn[13]\u001b[39m\u001b[32m, line 1\u001b[39m\n\u001b[32m----> \u001b[39m\u001b[32m1\u001b[39m \u001b[43mscr\u001b[49m\u001b[43m.\u001b[49m\u001b[43mrun_\u001b[49m(url)\n",
      "\u001b[36mFile \u001b[39m\u001b[32m~/miniconda3/envs/agt/lib/python3.12/site-packages/pydantic/main.py:989\u001b[39m, in \u001b[36mBaseModel.__getattr__\u001b[39m\u001b[34m(self, item)\u001b[39m\n\u001b[32m    986\u001b[39m     \u001b[38;5;28;01mreturn\u001b[39;00m \u001b[38;5;28msuper\u001b[39m().\u001b[34m__getattribute__\u001b[39m(item)  \u001b[38;5;66;03m# Raises AttributeError if appropriate\u001b[39;00m\n\u001b[32m    987\u001b[39m \u001b[38;5;28;01melse\u001b[39;00m:\n\u001b[32m    988\u001b[39m     \u001b[38;5;66;03m# this is the current error\u001b[39;00m\n\u001b[32m--> \u001b[39m\u001b[32m989\u001b[39m     \u001b[38;5;28;01mraise\u001b[39;00m \u001b[38;5;167;01mAttributeError\u001b[39;00m(\u001b[33mf\u001b[39m\u001b[33m'\u001b[39m\u001b[38;5;132;01m{\u001b[39;00m\u001b[38;5;28mtype\u001b[39m(\u001b[38;5;28mself\u001b[39m).\u001b[34m__name__\u001b[39m\u001b[38;5;132;01m!r}\u001b[39;00m\u001b[33m object has no attribute \u001b[39m\u001b[38;5;132;01m{\u001b[39;00mitem\u001b[38;5;132;01m!r}\u001b[39;00m\u001b[33m'\u001b[39m)\n",
      "\u001b[31mAttributeError\u001b[39m: 'ScrapeTool' object has no attribute 'run_'"
     ]
    }
   ],
   "source": [
    "from crewai import Agent\n",
    "\n",
    "from crewai import Agent, Crew, Process, Task, LLM\n",
    "\n",
    "llm = LLM(\n",
    "                    model=\"ollama/llama3.2:1b\",\n",
    "                    base_url=\"http://localhost:11434\"\n",
    "        )\n",
    "\n",
    "senior_technical_writer = Agent(\n",
    "\n",
    "    role=\"Senior Technical Writer\",\n",
    "    \n",
    "    goal=\"\"\"Craft clear, engaging, and well-structured technical content based on research findings\"\"\",\n",
    "    \n",
    "    backstory=\"\"\"You are an experienced technical writer with expertise in simplifying complex concepts, structuring content for readability, and ensuring accuracy in documentation.\"\"\",\n",
    "                 \n",
    "    llm=llm,\n",
    "    tools=[scr],             \n",
    "    verbose=True\n",
    ")\n",
    "from crewai import Task\n",
    "\n",
    "writing_task = Task(\n",
    "    description=\"\"\"Write a well-structured, engaging, and technically accurate article on {topic}.\"\"\",\n",
    "    \n",
    "    agent=senior_technical_writer, \n",
    "    \n",
    "    expected_output=\"\"\"A polished, detailed, and easy-to-read article on the given topic.\"\"\",\n",
    ")\n",
    "from crewai import Crew\n",
    "\n",
    "crew = Crew(\n",
    "    agents=[senior_technical_writer],\n",
    "    tasks=[writing_task],\n",
    "    \n",
    "    verbose=True\n",
    ")"
   ]
  },
  {
   "cell_type": "code",
   "execution_count": null,
   "id": "3d8360ae-4373-4017-9b5f-8c29a5954c60",
   "metadata": {},
   "outputs": [],
   "source": []
  }
 ],
 "metadata": {
  "kernelspec": {
   "display_name": "agt",
   "language": "python",
   "name": "agt"
  },
  "language_info": {
   "codemirror_mode": {
    "name": "ipython",
    "version": 3
   },
   "file_extension": ".py",
   "mimetype": "text/x-python",
   "name": "python",
   "nbconvert_exporter": "python",
   "pygments_lexer": "ipython3",
   "version": "3.12.9"
  }
 },
 "nbformat": 4,
 "nbformat_minor": 5
}
